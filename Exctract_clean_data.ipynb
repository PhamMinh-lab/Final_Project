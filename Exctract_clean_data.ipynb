{
 "cells": [
  {
   "cell_type": "code",
   "execution_count": 1,
   "metadata": {
    "colab": {
     "base_uri": "https://localhost:8080/"
    },
    "executionInfo": {
     "elapsed": 23497,
     "status": "ok",
     "timestamp": 1749644228614,
     "user": {
      "displayName": "hung vo",
      "userId": "02684113390906260215"
     },
     "user_tz": -420
    },
    "id": "BpbaDBkhSb5o",
    "outputId": "d9990bce-a1aa-4cd1-abcd-9e1f91c1f659"
   },
   "outputs": [
    {
     "ename": "ModuleNotFoundError",
     "evalue": "No module named 'google.colab'",
     "output_type": "error",
     "traceback": [
      "\u001b[1;31m---------------------------------------------------------------------------\u001b[0m",
      "\u001b[1;31mModuleNotFoundError\u001b[0m                       Traceback (most recent call last)",
      "Cell \u001b[1;32mIn[1], line 1\u001b[0m\n\u001b[1;32m----> 1\u001b[0m \u001b[38;5;28;01mfrom\u001b[39;00m\u001b[38;5;250m \u001b[39m\u001b[38;5;21;01mgoogle\u001b[39;00m\u001b[38;5;21;01m.\u001b[39;00m\u001b[38;5;21;01mcolab\u001b[39;00m\u001b[38;5;250m \u001b[39m\u001b[38;5;28;01mimport\u001b[39;00m drive\n\u001b[0;32m      2\u001b[0m drive\u001b[38;5;241m.\u001b[39mmount(\u001b[38;5;124m\"\u001b[39m\u001b[38;5;124m/content/gdrive\u001b[39m\u001b[38;5;124m\"\u001b[39m, force_remount\u001b[38;5;241m=\u001b[39m\u001b[38;5;28;01mTrue\u001b[39;00m)\n",
      "\u001b[1;31mModuleNotFoundError\u001b[0m: No module named 'google.colab'"
     ]
    }
   ],
   "source": [
    "from google.colab import drive\n",
    "drive.mount(\"/content/gdrive\", force_remount=True)"
   ]
  },
  {
   "cell_type": "code",
   "execution_count": null,
   "metadata": {
    "colab": {
     "base_uri": "https://localhost:8080/"
    },
    "executionInfo": {
     "elapsed": 15231,
     "status": "ok",
     "timestamp": 1749644243847,
     "user": {
      "displayName": "hung vo",
      "userId": "02684113390906260215"
     },
     "user_tz": -420
    },
    "id": "mK1zn7cKSz1H",
    "outputId": "f175f2e8-ff93-430f-aa9f-a2e5939e6ac1"
   },
   "outputs": [
    {
     "name": "stdout",
     "output_type": "stream",
     "text": [
      "Collecting underthesea\n",
      "  Downloading underthesea-6.8.4-py3-none-any.whl.metadata (15 kB)\n",
      "Requirement already satisfied: Click>=6.0 in /usr/local/lib/python3.11/dist-packages (from underthesea) (8.2.1)\n",
      "Collecting python-crfsuite>=0.9.6 (from underthesea)\n",
      "  Downloading python_crfsuite-0.9.11-cp311-cp311-manylinux_2_17_x86_64.manylinux2014_x86_64.whl.metadata (4.3 kB)\n",
      "Requirement already satisfied: nltk in /usr/local/lib/python3.11/dist-packages (from underthesea) (3.9.1)\n",
      "Requirement already satisfied: tqdm in /usr/local/lib/python3.11/dist-packages (from underthesea) (4.67.1)\n",
      "Requirement already satisfied: requests in /usr/local/lib/python3.11/dist-packages (from underthesea) (2.32.3)\n",
      "Requirement already satisfied: joblib in /usr/local/lib/python3.11/dist-packages (from underthesea) (1.5.1)\n",
      "Requirement already satisfied: scikit-learn in /usr/local/lib/python3.11/dist-packages (from underthesea) (1.6.1)\n",
      "Requirement already satisfied: PyYAML in /usr/local/lib/python3.11/dist-packages (from underthesea) (6.0.2)\n",
      "Collecting underthesea-core==1.0.4 (from underthesea)\n",
      "  Downloading underthesea_core-1.0.4-cp311-cp311-manylinux2010_x86_64.whl.metadata (1.7 kB)\n",
      "Requirement already satisfied: regex>=2021.8.3 in /usr/local/lib/python3.11/dist-packages (from nltk->underthesea) (2024.11.6)\n",
      "Requirement already satisfied: charset-normalizer<4,>=2 in /usr/local/lib/python3.11/dist-packages (from requests->underthesea) (3.4.2)\n",
      "Requirement already satisfied: idna<4,>=2.5 in /usr/local/lib/python3.11/dist-packages (from requests->underthesea) (3.10)\n",
      "Requirement already satisfied: urllib3<3,>=1.21.1 in /usr/local/lib/python3.11/dist-packages (from requests->underthesea) (2.4.0)\n",
      "Requirement already satisfied: certifi>=2017.4.17 in /usr/local/lib/python3.11/dist-packages (from requests->underthesea) (2025.4.26)\n",
      "Requirement already satisfied: numpy>=1.19.5 in /usr/local/lib/python3.11/dist-packages (from scikit-learn->underthesea) (2.0.2)\n",
      "Requirement already satisfied: scipy>=1.6.0 in /usr/local/lib/python3.11/dist-packages (from scikit-learn->underthesea) (1.15.3)\n",
      "Requirement already satisfied: threadpoolctl>=3.1.0 in /usr/local/lib/python3.11/dist-packages (from scikit-learn->underthesea) (3.6.0)\n",
      "Downloading underthesea-6.8.4-py3-none-any.whl (20.9 MB)\n",
      "\u001b[2K   \u001b[90m━━━━━━━━━━━━━━━━━━━━━━━━━━━━━━━━━━━━━━━━\u001b[0m \u001b[32m20.9/20.9 MB\u001b[0m \u001b[31m49.4 MB/s\u001b[0m eta \u001b[36m0:00:00\u001b[0m\n",
      "\u001b[?25hDownloading underthesea_core-1.0.4-cp311-cp311-manylinux2010_x86_64.whl (657 kB)\n",
      "\u001b[2K   \u001b[90m━━━━━━━━━━━━━━━━━━━━━━━━━━━━━━━━━━━━━━━━\u001b[0m \u001b[32m657.8/657.8 kB\u001b[0m \u001b[31m20.5 MB/s\u001b[0m eta \u001b[36m0:00:00\u001b[0m\n",
      "\u001b[?25hDownloading python_crfsuite-0.9.11-cp311-cp311-manylinux_2_17_x86_64.manylinux2014_x86_64.whl (1.3 MB)\n",
      "\u001b[2K   \u001b[90m━━━━━━━━━━━━━━━━━━━━━━━━━━━━━━━━━━━━━━━━\u001b[0m \u001b[32m1.3/1.3 MB\u001b[0m \u001b[31m44.2 MB/s\u001b[0m eta \u001b[36m0:00:00\u001b[0m\n",
      "\u001b[?25hInstalling collected packages: underthesea-core, python-crfsuite, underthesea\n",
      "Successfully installed python-crfsuite-0.9.11 underthesea-6.8.4 underthesea-core-1.0.4\n"
     ]
    }
   ],
   "source": [
    "!pip install underthesea"
   ]
  },
  {
   "cell_type": "code",
   "execution_count": null,
   "metadata": {
    "colab": {
     "base_uri": "https://localhost:8080/"
    },
    "executionInfo": {
     "elapsed": 413,
     "status": "ok",
     "timestamp": 1749644244262,
     "user": {
      "displayName": "hung vo",
      "userId": "02684113390906260215"
     },
     "user_tz": -420
    },
    "id": "fCtCWXSoS5PH",
    "outputId": "d5b8a10e-82de-430e-82dd-bf53e45eca75"
   },
   "outputs": [
    {
     "name": "stdout",
     "output_type": "stream",
     "text": [
      "/content/gdrive/MyDrive/DL07/Project1\n"
     ]
    }
   ],
   "source": [
    "%cd \"/content/gdrive/MyDrive/DL07/Project1\""
   ]
  },
  {
   "cell_type": "code",
   "execution_count": 1,
   "metadata": {
    "executionInfo": {
     "elapsed": 25507,
     "status": "ok",
     "timestamp": 1749644269770,
     "user": {
      "displayName": "hung vo",
      "userId": "02684113390906260215"
     },
     "user_tz": -420
    },
    "id": "xQtrtGhtTHlZ"
   },
   "outputs": [],
   "source": [
    "import pandas as pd\n",
    "import numpy as np\n",
    "import re\n",
    "import regex\n",
    "import string\n",
    "import matplotlib.pyplot as plt\n",
    "import seaborn as sns\n",
    "\n",
    "from sklearn.feature_extraction.text import CountVectorizer, TfidfVectorizer\n",
    "from sklearn.decomposition import LatentDirichletAllocation, PCA\n",
    "\n",
    "from underthesea import word_tokenize, pos_tag, sent_tokenize\n",
    "from wordcloud import WordCloud\n",
    "import warnings\n",
    "warnings.filterwarnings('ignore')"
   ]
  },
  {
   "cell_type": "code",
   "execution_count": 2,
   "metadata": {
    "executionInfo": {
     "elapsed": 2358,
     "status": "ok",
     "timestamp": 1749647087497,
     "user": {
      "displayName": "hung vo",
      "userId": "02684113390906260215"
     },
     "user_tz": -420
    },
    "id": "y2e3eejJTMB5"
   },
   "outputs": [],
   "source": [
    "from os import truncate\n",
    "# Bước 1: đọc dữ liệu\n",
    "data = pd.read_excel(\"Reviews.xlsx\")"
   ]
  },
  {
   "cell_type": "code",
   "execution_count": 3,
   "metadata": {
    "colab": {
     "base_uri": "https://localhost:8080/",
     "height": 247
    },
    "executionInfo": {
     "elapsed": 211,
     "status": "ok",
     "timestamp": 1749647088951,
     "user": {
      "displayName": "hung vo",
      "userId": "02684113390906260215"
     },
     "user_tz": -420
    },
    "id": "J16icltLTy8A",
    "outputId": "0826bdf2-7ed6-470f-dbd7-ecfa3774c678"
   },
   "outputs": [
    {
     "data": {
      "text/html": [
       "<div>\n",
       "<style scoped>\n",
       "    .dataframe tbody tr th:only-of-type {\n",
       "        vertical-align: middle;\n",
       "    }\n",
       "\n",
       "    .dataframe tbody tr th {\n",
       "        vertical-align: top;\n",
       "    }\n",
       "\n",
       "    .dataframe thead th {\n",
       "        text-align: right;\n",
       "    }\n",
       "</style>\n",
       "<table border=\"1\" class=\"dataframe\">\n",
       "  <thead>\n",
       "    <tr style=\"text-align: right;\">\n",
       "      <th></th>\n",
       "      <th>id</th>\n",
       "      <th>Company Name</th>\n",
       "      <th>Cmt_day</th>\n",
       "      <th>Title</th>\n",
       "      <th>What I liked</th>\n",
       "      <th>Suggestions for improvement</th>\n",
       "      <th>Rating</th>\n",
       "      <th>Salary &amp; benefits</th>\n",
       "      <th>Training &amp; learning</th>\n",
       "      <th>Management cares about me</th>\n",
       "      <th>Culture &amp; fun</th>\n",
       "      <th>Office &amp; workspace</th>\n",
       "      <th>Recommend?</th>\n",
       "    </tr>\n",
       "  </thead>\n",
       "  <tbody>\n",
       "    <tr>\n",
       "      <th>0</th>\n",
       "      <td>4</td>\n",
       "      <td>Accenture</td>\n",
       "      <td>March 2025</td>\n",
       "      <td>Môi trường thoải mái, ít áp lực, có thể làm vi...</td>\n",
       "      <td>Môi trường thoải mái, ít áp lực, có thể làm vi...</td>\n",
       "      <td>Cần đánh giá KPI khách quan và phân chia công ...</td>\n",
       "      <td>4</td>\n",
       "      <td>4</td>\n",
       "      <td>4</td>\n",
       "      <td>4</td>\n",
       "      <td>4</td>\n",
       "      <td>4</td>\n",
       "      <td>Yes</td>\n",
       "    </tr>\n",
       "    <tr>\n",
       "      <th>1</th>\n",
       "      <td>4</td>\n",
       "      <td>Accenture</td>\n",
       "      <td>January 2025</td>\n",
       "      <td>Công ty trẻ trung năng động</td>\n",
       "      <td>Cơ sở vật chất đẹp, công ty trẻ trung năng độn...</td>\n",
       "      <td>Nên nghiên cứu lại range lương của thì trường....</td>\n",
       "      <td>4</td>\n",
       "      <td>3</td>\n",
       "      <td>4</td>\n",
       "      <td>4</td>\n",
       "      <td>4</td>\n",
       "      <td>5</td>\n",
       "      <td>Yes</td>\n",
       "    </tr>\n",
       "    <tr>\n",
       "      <th>2</th>\n",
       "      <td>4</td>\n",
       "      <td>Accenture</td>\n",
       "      <td>October 2023</td>\n",
       "      <td>Môi trường làm việc thoải mái vui vẻ</td>\n",
       "      <td>Mội người thân thiện, giúp đỡ lẫn nhau. Chương...</td>\n",
       "      <td>Do công ty làm outsourcing về mảng system nên ...</td>\n",
       "      <td>3</td>\n",
       "      <td>3</td>\n",
       "      <td>3</td>\n",
       "      <td>3</td>\n",
       "      <td>3</td>\n",
       "      <td>3</td>\n",
       "      <td>Yes</td>\n",
       "    </tr>\n",
       "  </tbody>\n",
       "</table>\n",
       "</div>"
      ],
      "text/plain": [
       "   id Company Name       Cmt_day  \\\n",
       "0   4    Accenture    March 2025   \n",
       "1   4    Accenture  January 2025   \n",
       "2   4    Accenture  October 2023   \n",
       "\n",
       "                                               Title  \\\n",
       "0  Môi trường thoải mái, ít áp lực, có thể làm vi...   \n",
       "1                        Công ty trẻ trung năng động   \n",
       "2               Môi trường làm việc thoải mái vui vẻ   \n",
       "\n",
       "                                        What I liked  \\\n",
       "0  Môi trường thoải mái, ít áp lực, có thể làm vi...   \n",
       "1  Cơ sở vật chất đẹp, công ty trẻ trung năng độn...   \n",
       "2  Mội người thân thiện, giúp đỡ lẫn nhau. Chương...   \n",
       "\n",
       "                         Suggestions for improvement  Rating  \\\n",
       "0  Cần đánh giá KPI khách quan và phân chia công ...       4   \n",
       "1  Nên nghiên cứu lại range lương của thì trường....       4   \n",
       "2  Do công ty làm outsourcing về mảng system nên ...       3   \n",
       "\n",
       "   Salary & benefits  Training & learning  Management cares about me  \\\n",
       "0                  4                    4                          4   \n",
       "1                  3                    4                          4   \n",
       "2                  3                    3                          3   \n",
       "\n",
       "   Culture & fun  Office & workspace Recommend?  \n",
       "0              4                   4        Yes  \n",
       "1              4                   5        Yes  \n",
       "2              3                   3        Yes  "
      ]
     },
     "execution_count": 3,
     "metadata": {},
     "output_type": "execute_result"
    }
   ],
   "source": [
    "data.head(3)"
   ]
  },
  {
   "cell_type": "code",
   "execution_count": 4,
   "metadata": {
    "colab": {
     "base_uri": "https://localhost:8080/"
    },
    "executionInfo": {
     "elapsed": 6,
     "status": "ok",
     "timestamp": 1749647093550,
     "user": {
      "displayName": "hung vo",
      "userId": "02684113390906260215"
     },
     "user_tz": -420
    },
    "id": "_IlIuoaKW9b-",
    "outputId": "1867b734-3ea9-4b34-d2bf-bd57b0747cd1"
   },
   "outputs": [
    {
     "name": "stdout",
     "output_type": "stream",
     "text": [
      "<class 'pandas.core.frame.DataFrame'>\n",
      "RangeIndex: 8417 entries, 0 to 8416\n",
      "Data columns (total 13 columns):\n",
      " #   Column                       Non-Null Count  Dtype \n",
      "---  ------                       --------------  ----- \n",
      " 0   id                           8417 non-null   int64 \n",
      " 1   Company Name                 8417 non-null   object\n",
      " 2   Cmt_day                      8417 non-null   object\n",
      " 3   Title                        8417 non-null   object\n",
      " 4   What I liked                 8416 non-null   object\n",
      " 5   Suggestions for improvement  8412 non-null   object\n",
      " 6   Rating                       8417 non-null   int64 \n",
      " 7   Salary & benefits            8417 non-null   int64 \n",
      " 8   Training & learning          8417 non-null   int64 \n",
      " 9   Management cares about me    8417 non-null   int64 \n",
      " 10  Culture & fun                8417 non-null   int64 \n",
      " 11  Office & workspace           8417 non-null   int64 \n",
      " 12  Recommend?                   8417 non-null   object\n",
      "dtypes: int64(7), object(6)\n",
      "memory usage: 855.0+ KB\n"
     ]
    }
   ],
   "source": [
    "data.info()"
   ]
  },
  {
   "cell_type": "code",
   "execution_count": 7,
   "metadata": {},
   "outputs": [],
   "source": [
    "data = data.dropna()"
   ]
  },
  {
   "cell_type": "code",
   "execution_count": 8,
   "metadata": {
    "executionInfo": {
     "elapsed": 6,
     "status": "ok",
     "timestamp": 1749647097944,
     "user": {
      "displayName": "hung vo",
      "userId": "02684113390906260215"
     },
     "user_tz": -420
    },
    "id": "qNSGlVER_jAy"
   },
   "outputs": [],
   "source": [
    "data['text'] = data['Title'].fillna('') + '- '+ data['What I liked'].fillna('')+'- '+ data['Suggestions for improvement'].fillna('')"
   ]
  },
  {
   "cell_type": "markdown",
   "metadata": {
    "id": "5nnugJFwXqTJ"
   },
   "source": [
    "# Làm sạch dữ liệu"
   ]
  },
  {
   "cell_type": "code",
   "execution_count": 11,
   "metadata": {
    "executionInfo": {
     "elapsed": 1423,
     "status": "ok",
     "timestamp": 1749644280114,
     "user": {
      "displayName": "hung vo",
      "userId": "02684113390906260215"
     },
     "user_tz": -420
    },
    "id": "oADHFVqpXNc2"
   },
   "outputs": [],
   "source": [
    "##LOAD EMOJICON\n",
    "file = open('file/emojicon.txt', 'r', encoding=\"utf8\")\n",
    "emoji_lst = file.read().split('\\n')\n",
    "emoji_dict = {}\n",
    "for line in emoji_lst:\n",
    "    key, value = line.split('\\t')\n",
    "    emoji_dict[key] = str(value)\n",
    "#print(teen_dict)\n",
    "file.close()\n",
    "#################\n",
    "#LOAD TEENCODE\n",
    "file = open('file/teencode.txt', 'r', encoding=\"utf8\")\n",
    "teen_lst = file.read().split('\\n')\n",
    "teen_dict = {}\n",
    "for line in teen_lst:\n",
    "    key, value = line.split('\\t')\n",
    "    teen_dict[key] = str(value)\n",
    "#print(teen_dict)\n",
    "file.close()\n",
    "###############\n",
    "#LOAD TRANSLATE ENGLISH -> VNMESE\n",
    "file = open('file/english-vnmese.txt', 'r', encoding=\"utf8\")\n",
    "englist_lst = file.read().split('\\n')\n",
    "for line in englist_lst:\n",
    "    key, value = line.split('\\t')\n",
    "    teen_dict[key] = str(value)\n",
    "#print(teen_dict)\n",
    "file.close()\n",
    "################\n",
    "#LOAD wrong words\n",
    "file = open('file/wrong-word.txt', 'r', encoding=\"utf8\")\n",
    "wrong_lst = file.read().split('\\n')\n",
    "file.close()\n",
    "#################\n",
    "#LOAD STOPWORDS\n",
    "file = open('file/vietnamese-stopwords.txt', 'r', encoding=\"utf8\")\n",
    "stopwords_lst = file.read().split('\\n')\n",
    "file.close()"
   ]
  },
  {
   "cell_type": "code",
   "execution_count": 12,
   "metadata": {
    "executionInfo": {
     "elapsed": 71,
     "status": "ok",
     "timestamp": 1749644280186,
     "user": {
      "displayName": "hung vo",
      "userId": "02684113390906260215"
     },
     "user_tz": -420
    },
    "id": "lpbd8wgvYQgR"
   },
   "outputs": [],
   "source": [
    "def process_text(text, dict_emoji, dict_teen, lst_wrong):\n",
    "    document = text.lower()\n",
    "    document = document.replace(\"’\",'')\n",
    "    document = regex.sub(r'\\.+', \".\", document)\n",
    "    document = re.sub(r'(.)\\1+', r'\\1', text) # thay thế lònggggg --> lòng\n",
    "    new_sentence =''\n",
    "    for sentence in sent_tokenize(document):\n",
    "        # if not(sentence.isascii()):\n",
    "        ###### CONVERT EMOJICON\n",
    "        sentence = ''.join(dict_emoji[word]+' ' if word in dict_emoji else word for word in list(sentence))\n",
    "        ###### CONVERT TEENCODE\n",
    "        sentence = ' '.join(dict_teen[word] if word in dict_teen else word for word in sentence.split())\n",
    "        ###### DEL Punctuation & Numbers\n",
    "        pattern = r'(?i)\\b[a-záàảãạăắằẳẵặâấầẩẫậéèẻẽẹêếềểễệóòỏõọôốồổỗộơớờởỡợíìỉĩịúùủũụưứừửữựýỳỷỹỵđ]+\\b'\n",
    "        sentence = ' '.join(regex.findall(pattern,sentence))\n",
    "        ###### DEL wrong words\n",
    "        sentence = ' '.join('' if word in lst_wrong else word for word in sentence.split())\n",
    "        new_sentence = new_sentence+ sentence + '. '\n",
    "    document = new_sentence\n",
    "    #print(document)\n",
    "     ###### DEL excess blank space\n",
    "    document = regex.sub(r'\\s+', ' ', document).strip()\n",
    "    return document"
   ]
  },
  {
   "cell_type": "markdown",
   "metadata": {
    "id": "l8Golc71fqzo"
   },
   "source": [
    "# Chuẩn hóa Unicode Tiếng Việt"
   ]
  },
  {
   "cell_type": "code",
   "execution_count": 13,
   "metadata": {
    "executionInfo": {
     "elapsed": 12,
     "status": "ok",
     "timestamp": 1749644375940,
     "user": {
      "displayName": "hung vo",
      "userId": "02684113390906260215"
     },
     "user_tz": -420
    },
    "id": "wqy-qh2MZjl_"
   },
   "outputs": [],
   "source": [
    "def loaddicchar():\n",
    "    uniChars = \"àáảãạâầấẩẫậăằắẳẵặèéẻẽẹêềếểễệđìíỉĩịòóỏõọôồốổỗộơờớởỡợùúủũụưừứửữựỳýỷỹỵÀÁẢÃẠÂẦẤẨẪẬĂẰẮẲẴẶÈÉẺẼẸÊỀẾỂỄỆĐÌÍỈĨỊÒÓỎÕỌÔỒỐỔỖỘƠỜỚỞỠỢÙÚỦŨỤƯỪỨỬỮỰỲÝỶỸỴÂĂĐÔƠƯ\"\n",
    "    unsignChars = \"aaaaaaaaaaaaaaaaaeeeeeeeeeeediiiiiooooooooooooooooouuuuuuuuuuuyyyyyAAAAAAAAAAAAAAAAAEEEEEEEEEEEDIIIOOOOOOOOOOOOOOOOOOOUUUUUUUUUUUYYYYYAADOOU\"\n",
    "\n",
    "    dic = {}\n",
    "    char1252 = 'à|á|ả|ã|ạ|ầ|ấ|ẩ|ẫ|ậ|ằ|ắ|ẳ|ẵ|ặ|è|é|ẻ|ẽ|ẹ|ề|ế|ể|ễ|ệ|ì|í|ỉ|ĩ|ị|ò|ó|ỏ|õ|ọ|ồ|ố|ổ|ỗ|ộ|ờ|ớ|ở|ỡ|ợ|ù|ú|ủ|ũ|ụ|ừ|ứ|ử|ữ|ự|ỳ|ý|ỷ|ỹ|ỵ|À|Á|Ả|Ã|Ạ|Ầ|Ấ|Ẩ|Ẫ|Ậ|Ằ|Ắ|Ẳ|Ẵ|Ặ|È|É|Ẻ|Ẽ|Ẹ|Ề|Ế|Ể|Ễ|Ệ|Ì|Í|Ỉ|Ĩ|Ị|Ò|Ó|Ỏ|Õ|Ọ|Ồ|Ố|Ổ|Ỗ|Ộ|Ờ|Ớ|Ở|Ỡ|Ợ|Ù|Ú|Ủ|Ũ|Ụ|Ừ|Ứ|Ử|Ữ|Ự|Ỳ|Ý|Ỷ|Ỹ|Ỵ'.split(\n",
    "        '|')\n",
    "    charutf8 = \"à|á|ả|ã|ạ|ầ|ấ|ẩ|ẫ|ậ|ằ|ắ|ẳ|ẵ|ặ|è|é|ẻ|ẽ|ẹ|ề|ế|ể|ễ|ệ|ì|í|ỉ|ĩ|ị|ò|ó|ỏ|õ|ọ|ồ|ố|ổ|ỗ|ộ|ờ|ớ|ở|ỡ|ợ|ù|ú|ủ|ũ|ụ|ừ|ứ|ử|ữ|ự|ỳ|ý|ỷ|ỹ|ỵ|À|Á|Ả|Ã|Ạ|Ầ|Ấ|Ẩ|Ẫ|Ậ|Ằ|Ắ|Ẳ|Ẵ|Ặ|È|É|Ẻ|Ẽ|Ẹ|Ề|Ế|Ể|Ễ|Ệ|Ì|Í|Ỉ|Ĩ|Ị|Ò|Ó|Ỏ|Õ|Ọ|Ồ|Ố|Ổ|Ỗ|Ộ|Ờ|Ớ|Ở|Ỡ|Ợ|Ù|Ú|Ủ|Ũ|Ụ|Ừ|Ứ|Ử|Ữ|Ự|Ỳ|Ý|Ỷ|Ỹ|Ỵ\".split(\n",
    "        '|')\n",
    "    for i in range(len(char1252)):\n",
    "        dic[char1252[i]] = charutf8[i]\n",
    "    return dic\n",
    "\n",
    "# Đưa toàn bộ dữ liệu qua hàm này để chuẩn hóa lại\n",
    "def covert_unicode(txt):\n",
    "    dicchar = loaddicchar()\n",
    "    return regex.sub(\n",
    "        r'à|á|ả|ã|ạ|ầ|ấ|ẩ|ẫ|ậ|ằ|ắ|ẳ|ẵ|ặ|è|é|ẻ|ẽ|ẹ|ề|ế|ể|ễ|ệ|ì|í|ỉ|ĩ|ị|ò|ó|ỏ|õ|ọ|ồ|ố|ổ|ỗ|ộ|ờ|ớ|ở|ỡ|ợ|ù|ú|ủ|ũ|ụ|ừ|ứ|ử|ữ|ự|ỳ|ý|ỷ|ỹ|ỵ|À|Á|Ả|Ã|Ạ|Ầ|Ấ|Ẩ|Ẫ|Ậ|Ằ|Ắ|Ẳ|Ẵ|Ặ|È|É|Ẻ|Ẽ|Ẹ|Ề|Ế|Ể|Ễ|Ệ|Ì|Í|Ỉ|Ĩ|Ị|Ò|Ó|Ỏ|Õ|Ọ|Ồ|Ố|Ổ|Ỗ|Ộ|Ờ|Ớ|Ở|Ỡ|Ợ|Ù|Ú|Ủ|Ũ|Ụ|Ừ|Ứ|Ử|Ữ|Ự|Ỳ|Ý|Ỷ|Ỹ|Ỵ',\n",
    "        lambda x: dicchar[x.group()], txt)"
   ]
  },
  {
   "cell_type": "markdown",
   "metadata": {
    "id": "BlpEgvaliOZ6"
   },
   "source": [
    "# Tạo từ đặc biệt ráp lại với nhau"
   ]
  },
  {
   "cell_type": "code",
   "execution_count": 14,
   "metadata": {
    "executionInfo": {
     "elapsed": 3,
     "status": "ok",
     "timestamp": 1749644376697,
     "user": {
      "displayName": "hung vo",
      "userId": "02684113390906260215"
     },
     "user_tz": -420
    },
    "id": "LZ2go1YBg3Jf"
   },
   "outputs": [],
   "source": [
    "def process_special_word(text):\n",
    "    new_text = ''\n",
    "    text_lst = text.split()\n",
    "    i= 0\n",
    "    if 'không' in text_lst:\n",
    "        while i <= len(text_lst) - 1:\n",
    "            word = text_lst[i]\n",
    "            #print(word)\n",
    "            #print(i)\n",
    "            if  word == 'không':\n",
    "                next_idx = i+1\n",
    "                if next_idx <= len(text_lst) -1:\n",
    "                    word = word +'_'+ text_lst[next_idx]\n",
    "                i= next_idx + 1\n",
    "            else:\n",
    "                i = i+1\n",
    "            new_text = new_text + word + ' '\n",
    "    else:\n",
    "        new_text = text\n",
    "    return new_text.strip()"
   ]
  },
  {
   "cell_type": "markdown",
   "metadata": {
    "id": "TXllIVqNiYi_"
   },
   "source": [
    "# Postag"
   ]
  },
  {
   "cell_type": "code",
   "execution_count": 15,
   "metadata": {
    "executionInfo": {
     "elapsed": 49,
     "status": "ok",
     "timestamp": 1749644376773,
     "user": {
      "displayName": "hung vo",
      "userId": "02684113390906260215"
     },
     "user_tz": -420
    },
    "id": "ikEcotJOhIDD"
   },
   "outputs": [],
   "source": [
    "def process_postag_thesea(text):\n",
    "    new_document = ''\n",
    "    for sentence in sent_tokenize(text):\n",
    "        sentence = sentence.replace('.','')\n",
    "        ###### POS tag\n",
    "        lst_word_type = ['A','AB','V','VB','VY','R']\n",
    "        sentence = ' '.join( word[0] if word[1].upper() in lst_word_type else '' for word in pos_tag(process_special_word(word_tokenize(sentence, format=\"text\"))))\n",
    "        new_document = new_document + sentence + ' '\n",
    "    ###### DEL excess blank space\n",
    "    new_document = regex.sub(r'\\s+', ' ', new_document).strip()\n",
    "    return new_document"
   ]
  },
  {
   "cell_type": "markdown",
   "metadata": {
    "id": "KY6Kw1CVkBdw"
   },
   "source": [
    "# Remove Stopword"
   ]
  },
  {
   "cell_type": "code",
   "execution_count": 16,
   "metadata": {
    "executionInfo": {
     "elapsed": 1,
     "status": "ok",
     "timestamp": 1749644474157,
     "user": {
      "displayName": "hung vo",
      "userId": "02684113390906260215"
     },
     "user_tz": -420
    },
    "id": "leCpQDz5ihlw"
   },
   "outputs": [],
   "source": [
    "def remove_stopword(text, stopwords):\n",
    "    ###### REMOVE stop words\n",
    "    document = ' '.join('' if word in stopwords else word for word in text.split())\n",
    "    #print(document)\n",
    "    ###### DEL excess blank space\n",
    "    document = regex.sub(r'\\s+', ' ', document).strip()\n",
    "    return document"
   ]
  },
  {
   "cell_type": "code",
   "execution_count": 17,
   "metadata": {},
   "outputs": [],
   "source": [
    "data['positive_text'] = data['What I liked']\n",
    "data['negative_text'] = data['Suggestions for improvement']\n",
    "data['sentiment'] = data['Rating'].apply(lambda x: 'negative' if x <= 2 else 'positive' if x >= 4 else 'neutral')"
   ]
  },
  {
   "cell_type": "code",
   "execution_count": 18,
   "metadata": {
    "colab": {
     "base_uri": "https://localhost:8080/",
     "height": 241
    },
    "executionInfo": {
     "elapsed": 246004,
     "status": "ok",
     "timestamp": 1749647359780,
     "user": {
      "displayName": "hung vo",
      "userId": "02684113390906260215"
     },
     "user_tz": -420
    },
    "id": "0SFwaGVUjVWO",
    "outputId": "0b5cc3ae-165c-4db2-e929-f539802575a2"
   },
   "outputs": [],
   "source": [
    "data['text_clean'] = data['text'].apply(lambda x : process_text(str(x) , emoji_dict, teen_dict, wrong_lst ))\\\n",
    "                            .apply(lambda x : covert_unicode(str(x)))\\\n",
    "                            .apply(lambda x : process_special_word(str(x)))\\\n",
    "                            .apply(lambda x : remove_stopword(str(x), stopwords_lst))\\\n",
    "                            .apply(lambda x: process_postag_thesea(str(x)))\n",
    "data['positive_clean'] = data['positive_text'].apply(lambda x : process_text(str(x) , emoji_dict, teen_dict, wrong_lst ))\\\n",
    "                            .apply(lambda x : covert_unicode(str(x)))\\\n",
    "                            .apply(lambda x : process_special_word(str(x)))\\\n",
    "                            .apply(lambda x : remove_stopword(str(x), stopwords_lst))\\\n",
    "                            .apply(lambda x: process_postag_thesea(str(x)))\n",
    "data['negative_clean'] = data['negative_text'].apply(lambda x : process_text(str(x) , emoji_dict, teen_dict, wrong_lst ))\\\n",
    "                            .apply(lambda x : covert_unicode(str(x)))\\\n",
    "                            .apply(lambda x : process_special_word(str(x)))\\\n",
    "                            .apply(lambda x : remove_stopword(str(x), stopwords_lst))\\\n",
    "                            .apply(lambda x: process_postag_thesea(str(x)))\n",
    "\n"
   ]
  },
  {
   "cell_type": "code",
   "execution_count": 19,
   "metadata": {},
   "outputs": [
    {
     "data": {
      "text/html": [
       "<div>\n",
       "<style scoped>\n",
       "    .dataframe tbody tr th:only-of-type {\n",
       "        vertical-align: middle;\n",
       "    }\n",
       "\n",
       "    .dataframe tbody tr th {\n",
       "        vertical-align: top;\n",
       "    }\n",
       "\n",
       "    .dataframe thead th {\n",
       "        text-align: right;\n",
       "    }\n",
       "</style>\n",
       "<table border=\"1\" class=\"dataframe\">\n",
       "  <thead>\n",
       "    <tr style=\"text-align: right;\">\n",
       "      <th></th>\n",
       "      <th>id</th>\n",
       "      <th>Company Name</th>\n",
       "      <th>Cmt_day</th>\n",
       "      <th>Title</th>\n",
       "      <th>What I liked</th>\n",
       "      <th>Suggestions for improvement</th>\n",
       "      <th>Rating</th>\n",
       "      <th>Salary &amp; benefits</th>\n",
       "      <th>Training &amp; learning</th>\n",
       "      <th>Management cares about me</th>\n",
       "      <th>Culture &amp; fun</th>\n",
       "      <th>Office &amp; workspace</th>\n",
       "      <th>Recommend?</th>\n",
       "      <th>text</th>\n",
       "      <th>positive_text</th>\n",
       "      <th>negative_text</th>\n",
       "      <th>sentiment</th>\n",
       "      <th>text_clean</th>\n",
       "      <th>positive_clean</th>\n",
       "      <th>negative_clean</th>\n",
       "    </tr>\n",
       "  </thead>\n",
       "  <tbody>\n",
       "    <tr>\n",
       "      <th>0</th>\n",
       "      <td>4</td>\n",
       "      <td>Accenture</td>\n",
       "      <td>March 2025</td>\n",
       "      <td>Môi trường thoải mái, ít áp lực, có thể làm vi...</td>\n",
       "      <td>Môi trường thoải mái, ít áp lực, có thể làm vi...</td>\n",
       "      <td>Cần đánh giá KPI khách quan và phân chia công ...</td>\n",
       "      <td>4</td>\n",
       "      <td>4</td>\n",
       "      <td>4</td>\n",
       "      <td>4</td>\n",
       "      <td>4</td>\n",
       "      <td>4</td>\n",
       "      <td>Yes</td>\n",
       "      <td>Môi trường thoải mái, ít áp lực, có thể làm vi...</td>\n",
       "      <td>Môi trường thoải mái, ít áp lực, có thể làm vi...</td>\n",
       "      <td>Cần đánh giá KPI khách quan và phân chia công ...</td>\n",
       "      <td>positive</td>\n",
       "      <td>thoải_mái thoải_mái hybrid thỏa_thuận tốt đủ d...</td>\n",
       "      <td>thoải_mái hybrid thỏa_thuận tốt đủ dịch_vụ cải...</td>\n",
       "      <td>Cần phân_chuyên_nghiệp khả_năng</td>\n",
       "    </tr>\n",
       "    <tr>\n",
       "      <th>1</th>\n",
       "      <td>4</td>\n",
       "      <td>Accenture</td>\n",
       "      <td>January 2025</td>\n",
       "      <td>Công ty trẻ trung năng động</td>\n",
       "      <td>Cơ sở vật chất đẹp, công ty trẻ trung năng độn...</td>\n",
       "      <td>Nên nghiên cứu lại range lương của thì trường....</td>\n",
       "      <td>4</td>\n",
       "      <td>3</td>\n",
       "      <td>4</td>\n",
       "      <td>4</td>\n",
       "      <td>4</td>\n",
       "      <td>5</td>\n",
       "      <td>Yes</td>\n",
       "      <td>Công ty trẻ trung năng động- Cơ sở vật chất đẹ...</td>\n",
       "      <td>Cơ sở vật chất đẹp, công ty trẻ trung năng độn...</td>\n",
       "      <td>Nên nghiên cứu lại range lương của thì trường....</td>\n",
       "      <td>positive</td>\n",
       "      <td>năng_động_Cơ_sở đẹp trẻ kết_hợp dự_án thể nghi...</td>\n",
       "      <td>đẹp trẻ kết_hợp dự_án thể</td>\n",
       "      <td>range maping</td>\n",
       "    </tr>\n",
       "    <tr>\n",
       "      <th>2</th>\n",
       "      <td>4</td>\n",
       "      <td>Accenture</td>\n",
       "      <td>October 2023</td>\n",
       "      <td>Môi trường làm việc thoải mái vui vẻ</td>\n",
       "      <td>Mội người thân thiện, giúp đỡ lẫn nhau. Chương...</td>\n",
       "      <td>Do công ty làm outsourcing về mảng system nên ...</td>\n",
       "      <td>3</td>\n",
       "      <td>3</td>\n",
       "      <td>3</td>\n",
       "      <td>3</td>\n",
       "      <td>3</td>\n",
       "      <td>3</td>\n",
       "      <td>Yes</td>\n",
       "      <td>Môi trường làm việc thoải mái vui vẻ- Mội ngườ...</td>\n",
       "      <td>Mội người thân thiện, giúp đỡ lẫn nhau. Chương...</td>\n",
       "      <td>Do công ty làm outsourcing về mảng system nên ...</td>\n",
       "      <td>neutral</td>\n",
       "      <td>thoải_mái vẻ giúp_đỡ lẫn chuyên_nghiệp tổ_chức...</td>\n",
       "      <td>thân_thiện lẫn chuyên_nghiệp tổ_chức Khá yêu_c...</td>\n",
       "      <td>outsourcing_mảng system_nghệ</td>\n",
       "    </tr>\n",
       "    <tr>\n",
       "      <th>3</th>\n",
       "      <td>4</td>\n",
       "      <td>Accenture</td>\n",
       "      <td>February 2025</td>\n",
       "      <td>good environment for fresher</td>\n",
       "      <td>good env. for fresher to learn and improve the...</td>\n",
       "      <td>Need to forcus more on benefit and evaluate co...</td>\n",
       "      <td>3</td>\n",
       "      <td>2</td>\n",
       "      <td>2</td>\n",
       "      <td>3</td>\n",
       "      <td>4</td>\n",
       "      <td>4</td>\n",
       "      <td>No</td>\n",
       "      <td>good environment for fresher- good env. for fr...</td>\n",
       "      <td>good env. for fresher to learn and improve the...</td>\n",
       "      <td>Need to forcus more on benefit and evaluate co...</td>\n",
       "      <td>neutral</td>\n",
       "      <td>ability opened teams đãi_ngộ contribution</td>\n",
       "      <td>ability opened teams</td>\n",
       "      <td>forcus evaluate</td>\n",
       "    </tr>\n",
       "    <tr>\n",
       "      <th>4</th>\n",
       "      <td>4</td>\n",
       "      <td>Accenture</td>\n",
       "      <td>February 2023</td>\n",
       "      <td>Môi trường làm việc thoải mái, vui vẻ</td>\n",
       "      <td>- Văn phòng đẹp, cơ sở vật chất tốt\\n- Sếp và ...</td>\n",
       "      <td>- Phát triển văn phòng để rộng rãi hơn\\n- Công...</td>\n",
       "      <td>4</td>\n",
       "      <td>3</td>\n",
       "      <td>4</td>\n",
       "      <td>4</td>\n",
       "      <td>4</td>\n",
       "      <td>3</td>\n",
       "      <td>Yes</td>\n",
       "      <td>Môi trường làm việc thoải mái, vui vẻ- - Văn p...</td>\n",
       "      <td>- Văn phòng đẹp, cơ sở vật chất tốt\\n- Sếp và ...</td>\n",
       "      <td>- Phát triển văn phòng để rộng rãi hơn\\n- Công...</td>\n",
       "      <td>positive</td>\n",
       "      <td>đẹp vật_chất tốt đồng_nghiệp Đồng_nghiệp vẻ th...</td>\n",
       "      <td>đẹp vật_chất tốt đồng_nghiệp Đồng_nghiệp vẻ th...</td>\n",
       "      <td>văn_phòng</td>\n",
       "    </tr>\n",
       "  </tbody>\n",
       "</table>\n",
       "</div>"
      ],
      "text/plain": [
       "   id Company Name        Cmt_day  \\\n",
       "0   4    Accenture     March 2025   \n",
       "1   4    Accenture   January 2025   \n",
       "2   4    Accenture   October 2023   \n",
       "3   4    Accenture  February 2025   \n",
       "4   4    Accenture  February 2023   \n",
       "\n",
       "                                               Title  \\\n",
       "0  Môi trường thoải mái, ít áp lực, có thể làm vi...   \n",
       "1                        Công ty trẻ trung năng động   \n",
       "2               Môi trường làm việc thoải mái vui vẻ   \n",
       "3                       good environment for fresher   \n",
       "4              Môi trường làm việc thoải mái, vui vẻ   \n",
       "\n",
       "                                        What I liked  \\\n",
       "0  Môi trường thoải mái, ít áp lực, có thể làm vi...   \n",
       "1  Cơ sở vật chất đẹp, công ty trẻ trung năng độn...   \n",
       "2  Mội người thân thiện, giúp đỡ lẫn nhau. Chương...   \n",
       "3  good env. for fresher to learn and improve the...   \n",
       "4  - Văn phòng đẹp, cơ sở vật chất tốt\\n- Sếp và ...   \n",
       "\n",
       "                         Suggestions for improvement  Rating  \\\n",
       "0  Cần đánh giá KPI khách quan và phân chia công ...       4   \n",
       "1  Nên nghiên cứu lại range lương của thì trường....       4   \n",
       "2  Do công ty làm outsourcing về mảng system nên ...       3   \n",
       "3  Need to forcus more on benefit and evaluate co...       3   \n",
       "4  - Phát triển văn phòng để rộng rãi hơn\\n- Công...       4   \n",
       "\n",
       "   Salary & benefits  Training & learning  Management cares about me  \\\n",
       "0                  4                    4                          4   \n",
       "1                  3                    4                          4   \n",
       "2                  3                    3                          3   \n",
       "3                  2                    2                          3   \n",
       "4                  3                    4                          4   \n",
       "\n",
       "   Culture & fun  Office & workspace Recommend?  \\\n",
       "0              4                   4        Yes   \n",
       "1              4                   5        Yes   \n",
       "2              3                   3        Yes   \n",
       "3              4                   4         No   \n",
       "4              4                   3        Yes   \n",
       "\n",
       "                                                text  \\\n",
       "0  Môi trường thoải mái, ít áp lực, có thể làm vi...   \n",
       "1  Công ty trẻ trung năng động- Cơ sở vật chất đẹ...   \n",
       "2  Môi trường làm việc thoải mái vui vẻ- Mội ngườ...   \n",
       "3  good environment for fresher- good env. for fr...   \n",
       "4  Môi trường làm việc thoải mái, vui vẻ- - Văn p...   \n",
       "\n",
       "                                       positive_text  \\\n",
       "0  Môi trường thoải mái, ít áp lực, có thể làm vi...   \n",
       "1  Cơ sở vật chất đẹp, công ty trẻ trung năng độn...   \n",
       "2  Mội người thân thiện, giúp đỡ lẫn nhau. Chương...   \n",
       "3  good env. for fresher to learn and improve the...   \n",
       "4  - Văn phòng đẹp, cơ sở vật chất tốt\\n- Sếp và ...   \n",
       "\n",
       "                                       negative_text sentiment  \\\n",
       "0  Cần đánh giá KPI khách quan và phân chia công ...  positive   \n",
       "1  Nên nghiên cứu lại range lương của thì trường....  positive   \n",
       "2  Do công ty làm outsourcing về mảng system nên ...   neutral   \n",
       "3  Need to forcus more on benefit and evaluate co...   neutral   \n",
       "4  - Phát triển văn phòng để rộng rãi hơn\\n- Công...  positive   \n",
       "\n",
       "                                          text_clean  \\\n",
       "0  thoải_mái thoải_mái hybrid thỏa_thuận tốt đủ d...   \n",
       "1  năng_động_Cơ_sở đẹp trẻ kết_hợp dự_án thể nghi...   \n",
       "2  thoải_mái vẻ giúp_đỡ lẫn chuyên_nghiệp tổ_chức...   \n",
       "3          ability opened teams đãi_ngộ contribution   \n",
       "4  đẹp vật_chất tốt đồng_nghiệp Đồng_nghiệp vẻ th...   \n",
       "\n",
       "                                      positive_clean  \\\n",
       "0  thoải_mái hybrid thỏa_thuận tốt đủ dịch_vụ cải...   \n",
       "1                          đẹp trẻ kết_hợp dự_án thể   \n",
       "2  thân_thiện lẫn chuyên_nghiệp tổ_chức Khá yêu_c...   \n",
       "3                               ability opened teams   \n",
       "4  đẹp vật_chất tốt đồng_nghiệp Đồng_nghiệp vẻ th...   \n",
       "\n",
       "                    negative_clean  \n",
       "0  Cần phân_chuyên_nghiệp khả_năng  \n",
       "1                     range maping  \n",
       "2     outsourcing_mảng system_nghệ  \n",
       "3                  forcus evaluate  \n",
       "4                        văn_phòng  "
      ]
     },
     "execution_count": 19,
     "metadata": {},
     "output_type": "execute_result"
    }
   ],
   "source": [
    "data.head()"
   ]
  },
  {
   "cell_type": "code",
   "execution_count": 20,
   "metadata": {},
   "outputs": [],
   "source": [
    "data.to_excel(\"Processed_Reviews.xlsx\", index=False)"
   ]
  }
 ],
 "metadata": {
  "colab": {
   "authorship_tag": "ABX9TyMXliWRANb4No2W2aRq14EZ",
   "provenance": []
  },
  "kernelspec": {
   "display_name": "Python 3",
   "name": "python3"
  },
  "language_info": {
   "codemirror_mode": {
    "name": "ipython",
    "version": 3
   },
   "file_extension": ".py",
   "mimetype": "text/x-python",
   "name": "python",
   "nbconvert_exporter": "python",
   "pygments_lexer": "ipython3",
   "version": "3.10.11"
  }
 },
 "nbformat": 4,
 "nbformat_minor": 0
}
